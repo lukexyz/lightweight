{
 "metadata": {
  "language_info": {
   "codemirror_mode": {
    "name": "ipython",
    "version": 3
   },
   "file_extension": ".py",
   "mimetype": "text/x-python",
   "name": "python",
   "nbconvert_exporter": "python",
   "pygments_lexer": "ipython3",
   "version": "3.8.8"
  },
  "orig_nbformat": 2,
  "kernelspec": {
   "name": "python3",
   "display_name": "Python 3.8.8 64-bit ('lightweight': conda)",
   "metadata": {
    "interpreter": {
     "hash": "ae82561c7f5158c35fcd47d524ee53ade68d9d749e37f2d2fd0dfa97ef05dd54"
    }
   }
  }
 },
 "nbformat": 4,
 "nbformat_minor": 2,
 "cells": [
  {
   "cell_type": "code",
   "execution_count": 1,
   "metadata": {},
   "outputs": [],
   "source": [
    "\n",
    "import random\n",
    "import time\n",
    "from itertools import cycle\n",
    "from typing import Dict, List, Tuple\n",
    "\n",
    "from rich.align import Align\n",
    "from rich.console import Console\n",
    "from rich.live import Live\n",
    "from rich.panel import Panel\n",
    "from rich.rule import Rule\n",
    "from rich.syntax import Syntax\n",
    "from rich.table import Table\n",
    "from rich.text import Text"
   ]
  },
  {
   "cell_type": "code",
   "execution_count": 79,
   "metadata": {},
   "outputs": [],
   "source": [
    "console = Console()"
   ]
  },
  {
   "cell_type": "code",
   "execution_count": 11,
   "metadata": {},
   "outputs": [
    {
     "output_type": "stream",
     "name": "stdout",
     "text": [
      "Wall time: 0 ns\n",
      "10\n"
     ]
    },
    {
     "output_type": "display_data",
     "data": {
      "text/plain": "<rich.jupyter.JupyterRenderable at 0x206737e6160>",
      "text/html": "<pre style=\"white-space:pre;overflow-x:auto;line-height:normal;font-family:Menlo,'DejaVu Sans Mono',consolas,'Courier New',monospace\"><span style=\"font-style: italic\">     Pose Estimation     </span>\n┏━━━━━━━┳━━━━━━┳━━━━━━━━┓\n┃<span style=\"font-weight: bold\"> frame </span>┃<span style=\"font-weight: bold\"> pose </span>┃<span style=\"font-weight: bold\"> conf   </span>┃\n┡━━━━━━━╇━━━━━━╇━━━━━━━━┩\n│ 1     │ up   │ <span style=\"color: #c0c0c0; text-decoration-color: #c0c0c0\">0.7000</span> │\n│ 0     │ down │ <span style=\"color: #008000; text-decoration-color: #008000\">0.9500</span> │\n│ 1     │ down │ <span style=\"color: #008000; text-decoration-color: #008000\">0.9500</span> │\n│ 2     │ down │ <span style=\"color: #008000; text-decoration-color: #008000\">0.9500</span> │\n│ 3     │ down │ <span style=\"color: #008000; text-decoration-color: #008000\">0.9500</span> │\n│ 4     │ down │ <span style=\"color: #008000; text-decoration-color: #008000\">0.9500</span> │\n│ 5     │ down │ <span style=\"color: #008000; text-decoration-color: #008000\">0.9500</span> │\n│ 6     │ down │ <span style=\"color: #008000; text-decoration-color: #008000\">0.9500</span> │\n│ 7     │ down │ <span style=\"color: #008000; text-decoration-color: #008000\">0.9500</span> │\n│ 8     │ down │ <span style=\"color: #008000; text-decoration-color: #008000\">0.9500</span> │\n└───────┴──────┴────────┘\n</pre>\n"
     },
     "metadata": {}
    }
   ],
   "source": [
    "%time\n",
    "pose_dict: Dict[Tuple[str, str], float] = {}\n",
    "pose_dict[('1', 'up')] = 0.7\n",
    "buffer_length = 10\n",
    "\n",
    "for i in range(9):\n",
    "    if len(pose_dict) > buffer_length - 1:\n",
    "        pose_dict.pop(list(pose_dict.keys())[0])\n",
    "    pose_dict[(f'{i}', 'down')] = 0.95\n",
    "\n",
    "table = Table(title=\"Pose Estimation\")\n",
    "table.add_column(\"frame\")\n",
    "table.add_column(\"pose\")\n",
    "table.add_column(\"conf\")\n",
    "\n",
    "for ((frame, pred), conf) in pose_dict.items():\n",
    "    table.add_row(\n",
    "        frame,\n",
    "        pred,\n",
    "        Text(\n",
    "            f\"{conf:.4f}\",\n",
    "            style=\"white\" if conf < 0.9 else \"green\"\n",
    "            ),\n",
    "    )\n",
    "\n",
    "print(len(pose_dict))\n",
    "console.print(table)"
   ]
  },
  {
   "cell_type": "code",
   "execution_count": null,
   "metadata": {},
   "outputs": [],
   "source": []
  },
  {
   "cell_type": "code",
   "execution_count": null,
   "metadata": {},
   "outputs": [],
   "source": []
  },
  {
   "cell_type": "code",
   "execution_count": null,
   "metadata": {},
   "outputs": [],
   "source": []
  }
 ]
}